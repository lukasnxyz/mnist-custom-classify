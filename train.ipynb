{
 "cells": [
  {
   "cell_type": "code",
   "execution_count": 1,
   "id": "7862e96a",
   "metadata": {
    "executionInfo": {
     "elapsed": 4665,
     "status": "ok",
     "timestamp": 1716979284808,
     "user": {
      "displayName": "Lukas Nitzsche",
      "userId": "11242676662405843623"
     },
     "user_tz": -120
    },
    "id": "7862e96a"
   },
   "outputs": [],
   "source": [
    "import torch\n",
    "from torch import nn\n",
    "import torch.nn.functional as F\n",
    "from torch.utils.data import DataLoader\n",
    "\n",
    "import matplotlib.pyplot as plt\n",
    "import numpy as np\n",
    "import time"
   ]
  },
  {
   "cell_type": "code",
   "execution_count": 2,
   "id": "8a98a751",
   "metadata": {
    "colab": {
     "base_uri": "https://localhost:8080/"
    },
    "executionInfo": {
     "elapsed": 506,
     "status": "ok",
     "timestamp": 1716979285313,
     "user": {
      "displayName": "Lukas Nitzsche",
      "userId": "11242676662405843623"
     },
     "user_tz": -120
    },
    "id": "8a98a751",
    "outputId": "42be79b0-dcff-4b47-9f43-a0dccb3711f3"
   },
   "outputs": [
    {
     "name": "stdout",
     "output_type": "stream",
     "text": [
      "Using device: cpu\n"
     ]
    }
   ],
   "source": [
    "#d_opts = [('cuda', torch.cuda.is_available()), ('mps', torch.backends.mps.is_available()), ('cpu', True)]\n",
    "#device = next(device for device, available in d_opts if available)\n",
    "device = 'cpu'\n",
    "print(f'Using device: {device}')"
   ]
  },
  {
   "cell_type": "code",
   "execution_count": 10,
   "id": "248ed642",
   "metadata": {
    "executionInfo": {
     "elapsed": 1,
     "status": "ok",
     "timestamp": 1716979291142,
     "user": {
      "displayName": "Lukas Nitzsche",
      "userId": "11242676662405843623"
     },
     "user_tz": -120
    },
    "id": "248ed642"
   },
   "outputs": [],
   "source": [
    "def load_data(dir_name: str):\n",
    "    data = list()\n",
    "    with open(dir_name, \"r\") as f:\n",
    "        [data.append(np.array(line.split(\",\"), dtype=np.float32)) for line in f]\n",
    "    data = np.asarray(data)\n",
    "    return data[:,1:], data[:,0]"
   ]
  },
  {
   "cell_type": "code",
   "execution_count": 13,
   "id": "9e30d442",
   "metadata": {
    "executionInfo": {
     "elapsed": 8487,
     "status": "ok",
     "timestamp": 1716979973448,
     "user": {
      "displayName": "Lukas Nitzsche",
      "userId": "11242676662405843623"
     },
     "user_tz": -120
    },
    "id": "9e30d442"
   },
   "outputs": [
    {
     "name": "stdout",
     "output_type": "stream",
     "text": [
      "Training set size: 60000x784\n",
      "Testing set size: 10000x784\n"
     ]
    }
   ],
   "source": [
    "Xtr, Ytr = load_data(\"data/mnist_train.csv\")\n",
    "Xval, Yval = load_data(\"data/mnist_test.csv\")\n",
    "\n",
    "# rescale 0-255 to 0.0-1.0\n",
    "Xtr = Xtr/Xtr.max()\n",
    "Xval = Xval/Xval.max()\n",
    "\n",
    "# one-hot encoding\n",
    "ytr = np.zeros((Ytr.size, int(Ytr.max()) + 1))\n",
    "ytr[np.arange(Ytr.size), Ytr.astype(int)] = 1.0\n",
    "\n",
    "yval = np.zeros((Yval.size, int(Yval.max()) + 1))\n",
    "yval[np.arange(Yval.size), Yval.astype(int)] = 1.0\n",
    "\n",
    "Xtr, Ytr = torch.tensor(Xtr, requires_grad=True, device=device), torch.tensor(ytr, requires_grad=True, device=device)\n",
    "Xval, Yval = torch.tensor(Xval, requires_grad=True, device=device), torch.tensor(yval, requires_grad=True, device=device)\n",
    "\n",
    "print(f\"Training set size: {Xtr.shape[0]}x{Xtr.shape[1]}\")\n",
    "print(f\"Testing set size: {Xval.shape[0]}x{Xval.shape[1]}\")"
   ]
  },
  {
   "cell_type": "code",
   "execution_count": 14,
   "id": "86e00824",
   "metadata": {
    "executionInfo": {
     "elapsed": 387,
     "status": "ok",
     "timestamp": 1716979979849,
     "user": {
      "displayName": "Lukas Nitzsche",
      "userId": "11242676662405843623"
     },
     "user_tz": -120
    },
    "id": "86e00824"
   },
   "outputs": [],
   "source": [
    "class MNIST(nn.Module):\n",
    "    def __init__(self):\n",
    "        super().__init__()\n",
    "        self.h1 = nn.Linear(784, 128)\n",
    "        self.act1 = nn.ReLU()\n",
    "        self.output = nn.Linear(128, 10)\n",
    "        self.act_output = nn.Sigmoid()\n",
    "\n",
    "    def forward(self, X: torch.Tensor) -> torch.Tensor:\n",
    "        X = self.act1(self.h1(X))\n",
    "        X = self.act_output(self.output(X))\n",
    "        return X"
   ]
  },
  {
   "cell_type": "code",
   "execution_count": 23,
   "id": "456e9e1f",
   "metadata": {
    "executionInfo": {
     "elapsed": 668,
     "status": "ok",
     "timestamp": 1716980056123,
     "user": {
      "displayName": "Lukas Nitzsche",
      "userId": "11242676662405843623"
     },
     "user_tz": -120
    },
    "id": "456e9e1f"
   },
   "outputs": [],
   "source": [
    "torch.manual_seed(42)\n",
    "\n",
    "epochs = 1000\n",
    "eval_itr = 100\n",
    "lossi = []\n",
    "learning_rate = 1e-3\n",
    "\n",
    "model = MNIST().to(device)\n",
    "loss_fn = nn.CrossEntropyLoss()\n",
    "optimizer = torch.optim.Adam(model.parameters(), lr=learning_rate)"
   ]
  },
  {
   "cell_type": "code",
   "execution_count": 24,
   "id": "c089fe8e",
   "metadata": {
    "colab": {
     "base_uri": "https://localhost:8080/"
    },
    "executionInfo": {
     "elapsed": 42914,
     "status": "ok",
     "timestamp": 1716980558572,
     "user": {
      "displayName": "Lukas Nitzsche",
      "userId": "11242676662405843623"
     },
     "user_tz": -120
    },
    "id": "c089fe8e",
    "outputId": "a12d3737-efb2-484e-d340-a799891a7cf8"
   },
   "outputs": [
    {
     "name": "stdout",
     "output_type": "stream",
     "text": [
      "0: loss 2.30\n",
      "100: loss 1.60\n",
      "200: loss 1.56\n",
      "300: loss 1.53\n",
      "400: loss 1.52\n",
      "500: loss 1.51\n",
      "600: loss 1.51\n",
      "700: loss 1.50\n",
      "800: loss 1.50\n",
      "900: loss 1.49\n",
      "time to train 75.6s\n"
     ]
    }
   ],
   "source": [
    "start_time = time.time()\n",
    "for i in range(epochs):\n",
    "    model.train()\n",
    "    # forward\n",
    "    out = model.forward(Xtr)\n",
    "    loss = loss_fn(out, Ytr)\n",
    "    # backward\n",
    "    optimizer.zero_grad()\n",
    "    loss.backward()\n",
    "    # update\n",
    "    optimizer.step()\n",
    "    # stats\n",
    "    if i % eval_itr == 0:\n",
    "        print(f'{i}: loss {loss.item():.2f}')\n",
    "    lossi.append(loss.item())\n",
    "end_time = time.time()\n",
    "print(f'time to train {end_time - start_time:.1f}s')"
   ]
  },
  {
   "cell_type": "code",
   "execution_count": 26,
   "id": "058aa1d2-ca0f-43f2-b988-44be977907a7",
   "metadata": {},
   "outputs": [
    {
     "data": {
      "image/png": "[encoded data removed]",
      "text/plain": [
       "<Figure size 640x480 with 1 Axes>"
      ]
     },
     "metadata": {},
     "output_type": "display_data"
    }
   ],
   "source": [
    "plt.plot(lossi);"
   ]
  },
  {
   "cell_type": "code",
   "execution_count": 27,
   "id": "9e8beb72-4d9a-4bdb-869c-e60fa4111d9b",
   "metadata": {},
   "outputs": [],
   "source": [
    "def accuracy_fn(y_true, y_pred):\n",
    "    correct = torch.eq(y_true, y_pred).sum().item()\n",
    "    acc = (correct / len(y_pred)) * 100\n",
    "    return acc"
   ]
  },
  {
   "cell_type": "code",
   "execution_count": 28,
   "id": "1668acfe-cff9-4d2f-84ca-c0d389119260",
   "metadata": {},
   "outputs": [
    {
     "name": "stdout",
     "output_type": "stream",
     "text": [
      "Accuracy: 96.43%\n"
     ]
    }
   ],
   "source": [
    "y_pred = model(Xval)\n",
    "acc = accuracy_fn(y_pred=y_pred.argmax(dim=1),\n",
    "                 y_true=Yval.argmax(dim=1))\n",
    "print(f'Accuracy: {acc:.2f}%')"
   ]
  },
  {
   "cell_type": "code",
   "execution_count": null,
   "id": "5e6669c6",
   "metadata": {
    "colab": {
     "base_uri": "https://localhost:8080/"
    },
    "executionInfo": {
     "elapsed": 300,
     "status": "ok",
     "timestamp": 1716980352305,
     "user": {
      "displayName": "Lukas Nitzsche",
      "userId": "11242676662405843623"
     },
     "user_tz": -120
    },
    "id": "5e6669c6",
    "outputId": "5f78dcc4-9019-409b-f7c7-85a8f5133303"
   },
   "outputs": [],
   "source": [
    "from pathlib import Path\n",
    "\n",
    "MODEL_PATH = Path(\"models\")\n",
    "MODEL_PATH.mkdir(parents=True, exist_ok=True)\n",
    "\n",
    "MODEL_NAME = \"MNIST_model.pth\"\n",
    "MODEL_SAVE_PATH = MODEL_PATH / MODEL_NAME\n",
    "\n",
    "print(f\"Saving model to: {MODEL_SAVE_PATH}\")\n",
    "torch.save(obj=model.state_dict(),\n",
    "           f=MODEL_SAVE_PATH)"
   ]
  },
  {
   "cell_type": "code",
   "execution_count": 30,
   "id": "4eb6049f",
   "metadata": {
    "id": "4eb6049f"
   },
   "outputs": [],
   "source": [
    "# todo: \n",
    "# 1. batching\n",
    "# 2. change model architecture\n",
    "# 3. get running on mps"
   ]
  },
  {
   "cell_type": "code",
   "execution_count": null,
   "id": "04fc7f55-d350-4163-aa22-f8feed2a9819",
   "metadata": {},
   "outputs": [],
   "source": []
  }
 ],
 "metadata": {
  "accelerator": "GPU",
  "colab": {
   "gpuType": "T4",
   "provenance": []
  },
  "kernelspec": {
   "display_name": "notebook_venv",
   "language": "python",
   "name": "notebook_venv"
  },
  "language_info": {
   "codemirror_mode": {
    "name": "ipython",
    "version": 3
   },
   "file_extension": ".py",
   "mimetype": "text/x-python",
   "name": "python",
   "nbconvert_exporter": "python",
   "pygments_lexer": "ipython3",
   "version": "3.12.4"
  }
 },
 "nbformat": 4,
 "nbformat_minor": 5
}
