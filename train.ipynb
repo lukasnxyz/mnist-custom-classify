{
 "cells": [
  {
   "cell_type": "code",
   "execution_count": 2,
   "id": "7862e96a",
   "metadata": {
    "executionInfo": {
     "elapsed": 4665,
     "status": "ok",
     "timestamp": 1716979284808,
     "user": {
      "displayName": "Lukas Nitzsche",
      "userId": "11242676662405843623"
     },
     "user_tz": -120
    },
    "id": "7862e96a"
   },
   "outputs": [],
   "source": [
    "import torch\n",
    "from torch import nn\n",
    "import torch.nn.functional as F\n",
    "\n",
    "import matplotlib.pyplot as plt\n",
    "import numpy as np\n",
    "import time"
   ]
  },
  {
   "cell_type": "code",
   "execution_count": 3,
   "id": "8a98a751",
   "metadata": {
    "colab": {
     "base_uri": "https://localhost:8080/"
    },
    "executionInfo": {
     "elapsed": 506,
     "status": "ok",
     "timestamp": 1716979285313,
     "user": {
      "displayName": "Lukas Nitzsche",
      "userId": "11242676662405843623"
     },
     "user_tz": -120
    },
    "id": "8a98a751",
    "outputId": "42be79b0-dcff-4b47-9f43-a0dccb3711f3"
   },
   "outputs": [
    {
     "name": "stdout",
     "output_type": "stream",
     "text": [
      "Using device: mps\n"
     ]
    }
   ],
   "source": [
    "d_opts = [('cuda', torch.cuda.is_available()), ('mps', torch.backends.mps.is_available()), ('cpu', True)]\n",
    "device = next(device for device, available in d_opts if available)\n",
    "print(f'Using device: {device}')"
   ]
  },
  {
   "cell_type": "code",
   "execution_count": 7,
   "id": "28d167bd-7303-4987-8e1b-5c54d5b94b8c",
   "metadata": {},
   "outputs": [
    {
     "name": "stdout",
     "output_type": "stream",
     "text": [
      "torch.Size([63000, 784]) torch.Size([7000, 784])\n"
     ]
    }
   ],
   "source": [
    "def load_data(dir_name: str):\n",
    "    data = list()\n",
    "    with open(dir_name, 'r') as f:\n",
    "        [data.append(np.array(line.split(','), dtype=np.float32)) for line in f]\n",
    "    data = np.asarray(data)\n",
    "    return torch.from_numpy(data)\n",
    "    \n",
    "data = load_data(\"data/mnist_data.csv\")\n",
    "# split into train/val sets\n",
    "n = int(0.9*len(data))\n",
    "tr_data, val_data = data[:n], data[n:]\n",
    "# split into X,Y\n",
    "Xtr, Ytr = tr_data[:, 1:], tr_data[:, 0]\n",
    "Xval, Yval = val_data[:, 1:], val_data[:, 0]\n",
    "# rescale 0-255 to 0.0-1.0\n",
    "Xtr = Xtr/Xtr.max()\n",
    "Xval = Xval/Xval.max()\n",
    "# move data to device\n",
    "Xtr, Ytr = Xtr.to(device), Ytr.to(device)\n",
    "Xval, Yval = Xval.to(device), Yval.to(device)\n",
    "print(Xtr.shape, Xval.shape)"
   ]
  },
  {
   "cell_type": "code",
   "execution_count": 8,
   "id": "86e00824",
   "metadata": {
    "executionInfo": {
     "elapsed": 387,
     "status": "ok",
     "timestamp": 1716979979849,
     "user": {
      "displayName": "Lukas Nitzsche",
      "userId": "11242676662405843623"
     },
     "user_tz": -120
    },
    "id": "86e00824"
   },
   "outputs": [],
   "source": [
    "class mnist_model(nn.Module):\n",
    "    def __init__(self, n_in: int, n_hidden: int, n_out: int):\n",
    "        super().__init__()\n",
    "        self.block1 = nn.Sequential(\n",
    "            nn.Linear(n_in, n_hidden),\n",
    "            nn.ReLU(),\n",
    "            nn.BatchNorm1d(n_hidden),\n",
    "        )\n",
    "        self.block2 = nn.Sequential(\n",
    "            nn.Linear(n_hidden, n_hidden),\n",
    "            nn.ReLU(),\n",
    "            nn.BatchNorm1d(n_hidden),\n",
    "        )\n",
    "        self.block3 = nn.Sequential(\n",
    "            nn.Linear(n_hidden, n_out),\n",
    "            nn.Sigmoid(),\n",
    "        )\n",
    "\n",
    "    def forward(self, x):\n",
    "        x = self.block1(x)\n",
    "        x = self.block2(x)\n",
    "        x = self.block3(x)\n",
    "        return x"
   ]
  },
  {
   "cell_type": "code",
   "execution_count": 9,
   "id": "456e9e1f",
   "metadata": {
    "executionInfo": {
     "elapsed": 668,
     "status": "ok",
     "timestamp": 1716980056123,
     "user": {
      "displayName": "Lukas Nitzsche",
      "userId": "11242676662405843623"
     },
     "user_tz": -120
    },
    "id": "456e9e1f"
   },
   "outputs": [],
   "source": [
    "# hyperparameters\n",
    "torch.manual_seed(42)\n",
    "epochs = 10000\n",
    "epoch_itr = 1000\n",
    "batch_size = 32\n",
    "learning_rate = 1e-3\n",
    "m = mnist_model(n_in=Xtr.shape[1], n_hidden=128, n_out=10).to(device)\n",
    "loss_fn = nn.CrossEntropyLoss()\n",
    "optimizer = torch.optim.Adam(m.parameters(), lr=learning_rate)"
   ]
  },
  {
   "cell_type": "code",
   "execution_count": 10,
   "id": "de8dc7c1-f0b3-4265-8db5-2b78cca1d823",
   "metadata": {},
   "outputs": [
    {
     "name": "stdout",
     "output_type": "stream",
     "text": [
      "num of params: 118794\n"
     ]
    }
   ],
   "source": [
    "print(f'num of params: {sum([p.numel() for p in m.parameters()])}')"
   ]
  },
  {
   "cell_type": "code",
   "execution_count": 11,
   "id": "c089fe8e",
   "metadata": {
    "colab": {
     "base_uri": "https://localhost:8080/"
    },
    "executionInfo": {
     "elapsed": 42914,
     "status": "ok",
     "timestamp": 1716980558572,
     "user": {
      "displayName": "Lukas Nitzsche",
      "userId": "11242676662405843623"
     },
     "user_tz": -120
    },
    "id": "c089fe8e",
    "outputId": "a12d3737-efb2-484e-d340-a799891a7cf8"
   },
   "outputs": [
    {
     "name": "stdout",
     "output_type": "stream",
     "text": [
      "0: loss 2.29\n",
      "1000: loss 1.51\n",
      "2000: loss 1.51\n",
      "3000: loss 1.47\n",
      "4000: loss 1.47\n",
      "5000: loss 1.51\n",
      "6000: loss 1.46\n",
      "7000: loss 1.48\n",
      "8000: loss 1.53\n",
      "9000: loss 1.46\n",
      "time to train 42.6s\n"
     ]
    }
   ],
   "source": [
    "m.train()\n",
    "start_time = time.time()\n",
    "for epoch in range(epochs):\n",
    "    # mini batching\n",
    "    ix = torch.randint(0, Xtr.shape[0], (batch_size,))\n",
    "    Xb, Yb = Xtr[ix], Ytr[ix]\n",
    "\n",
    "    logits = m.forward(Xb)\n",
    "    loss = loss_fn(logits, Yb)\n",
    "\n",
    "    optimizer.zero_grad()\n",
    "    loss.backward()\n",
    "\n",
    "    learning_rate = 1e-1 if epoch > 5000 else 1e-3\n",
    "    optimizer.step()\n",
    "    \n",
    "    # stats\n",
    "    if epoch % epoch_itr == 0:\n",
    "        print(f'{epoch}: loss {loss.item():.2f}')\n",
    "    \n",
    "end_time = time.time()\n",
    "print(f'time to train {end_time - start_time:.1f}s')"
   ]
  },
  {
   "cell_type": "code",
   "execution_count": 12,
   "id": "936fbbed-8801-4c46-9b77-e562689fa745",
   "metadata": {},
   "outputs": [
    {
     "name": "stdout",
     "output_type": "stream",
     "text": [
      "train 1.4763100147247314\n",
      "val 1.4783204793930054\n"
     ]
    }
   ],
   "source": [
    "@torch.no_grad()\n",
    "def split_loss(split: str):\n",
    "    x,y = {\n",
    "        'train': (Xtr, Ytr),\n",
    "        'val': (Xval, Yval),\n",
    "    }[split]\n",
    "    logits = m(x.float())\n",
    "    loss = F.cross_entropy(logits, y)\n",
    "    print(split, loss.item())\n",
    "\n",
    "with torch.inference_mode():\n",
    "    split_loss('train')\n",
    "    split_loss('val')"
   ]
  },
  {
   "cell_type": "code",
   "execution_count": 13,
   "id": "9e8beb72-4d9a-4bdb-869c-e60fa4111d9b",
   "metadata": {},
   "outputs": [
    {
     "name": "stdout",
     "output_type": "stream",
     "text": [
      "Accuracy: 97.93%\n"
     ]
    }
   ],
   "source": [
    "m.eval()\n",
    "with torch.inference_mode():\n",
    "    def accuracy_fn(y_true, y_pred):\n",
    "        correct = torch.eq(y_true, y_pred).sum().item()\n",
    "        acc = (correct / len(y_pred)) * 100\n",
    "        return acc\n",
    "    logits = m(Xval)\n",
    "    acc = accuracy_fn(y_pred=logits.argmax(dim=1),\n",
    "                     y_true=Yval)\n",
    "    print(f'Accuracy: {acc:.2f}%')\n",
    "# beat: 97.54% accuracy"
   ]
  },
  {
   "cell_type": "code",
   "execution_count": 72,
   "id": "5fb5bbbb-6c62-459b-b78f-b9ec126313e2",
   "metadata": {},
   "outputs": [],
   "source": [
    "# acc: 87.54%, train: 2.3019, val: 2.3017\n",
    "# acc 97.40%, train: 1.4784, val: 1.4817\n",
    "# acc: 97.93%, train: 1.4763, val: 1.4783"
   ]
  },
  {
   "cell_type": "code",
   "execution_count": 73,
   "id": "5e6669c6",
   "metadata": {
    "colab": {
     "base_uri": "https://localhost:8080/"
    },
    "executionInfo": {
     "elapsed": 300,
     "status": "ok",
     "timestamp": 1716980352305,
     "user": {
      "displayName": "Lukas Nitzsche",
      "userId": "11242676662405843623"
     },
     "user_tz": -120
    },
    "id": "5e6669c6",
    "outputId": "5f78dcc4-9019-409b-f7c7-85a8f5133303"
   },
   "outputs": [
    {
     "name": "stdout",
     "output_type": "stream",
     "text": [
      "Saving model to: models/MNIST_model_3.pth\n"
     ]
    }
   ],
   "source": [
    "from pathlib import Path\n",
    "\n",
    "MODEL_PATH = Path('models')\n",
    "MODEL_PATH.mkdir(parents=True, exist_ok=True)\n",
    "\n",
    "MODEL_NAME = 'MNIST_model_3.pth'\n",
    "MODEL_SAVE_PATH = MODEL_PATH / MODEL_NAME\n",
    "\n",
    "print(f'Saving model to: {MODEL_SAVE_PATH}')\n",
    "torch.save(obj=m.state_dict(),\n",
    "           f=MODEL_SAVE_PATH)"
   ]
  },
  {
   "cell_type": "code",
   "execution_count": null,
   "id": "04fc7f55-d350-4163-aa22-f8feed2a9819",
   "metadata": {},
   "outputs": [],
   "source": []
  }
 ],
 "metadata": {
  "accelerator": "GPU",
  "colab": {
   "gpuType": "T4",
   "provenance": []
  },
  "kernelspec": {
   "display_name": "venv",
   "language": "python",
   "name": "python3"
  },
  "language_info": {
   "codemirror_mode": {
    "name": "ipython",
    "version": 3
   },
   "file_extension": ".py",
   "mimetype": "text/x-python",
   "name": "python",
   "nbconvert_exporter": "python",
   "pygments_lexer": "ipython3",
   "version": "3.12.4"
  }
 },
 "nbformat": 4,
 "nbformat_minor": 5
}
